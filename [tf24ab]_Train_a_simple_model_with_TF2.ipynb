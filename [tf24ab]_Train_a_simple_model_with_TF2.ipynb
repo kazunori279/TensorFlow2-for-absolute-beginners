{
  "nbformat": 4,
  "nbformat_minor": 0,
  "metadata": {
    "colab": {
      "name": "[tf24ab] Train a simple model with TF2.ipynb",
      "version": "0.3.2",
      "provenance": [],
      "collapsed_sections": [],
      "include_colab_link": true
    },
    "kernelspec": {
      "name": "python3",
      "display_name": "Python 3"
    }
  },
  "cells": [
    {
      "cell_type": "markdown",
      "metadata": {
        "id": "view-in-github",
        "colab_type": "text"
      },
      "source": [
        "<a href=\"https://colab.research.google.com/github/kazunori279/TensorFlow2-for-absolute-beginners/blob/master/%5Btf24ab%5D_Train_a_simple_model_with_TF2.ipynb\" target=\"_parent\"><img src=\"https://colab.research.google.com/assets/colab-badge.svg\" alt=\"Open In Colab\"/></a>"
      ]
    },
    {
      "cell_type": "code",
      "metadata": {
        "id": "tMczBykx48vP",
        "colab_type": "code",
        "colab": {}
      },
      "source": [
        "# TensorFlow and tf.keras\n",
        "import tensorflow as tf\n",
        "from tensorflow import keras\n",
        "\n",
        "# numpy and matplotlib libraries\n",
        "import numpy as np\n",
        "import matplotlib.pyplot as plt\n",
        "\n",
        "print(tf.__version__)"
      ],
      "execution_count": 0,
      "outputs": []
    },
    {
      "cell_type": "code",
      "metadata": {
        "id": "ZiyB01-5Befs",
        "colab_type": "code",
        "colab": {}
      },
      "source": [
        "# upload the file\n",
        "from google.colab import files\n",
        "files.upload()\n",
        "\n",
        "# load the data\n",
        "csv = np.loadtxt('data.csv', delimiter=',')\n",
        "csv"
      ],
      "execution_count": 0,
      "outputs": []
    },
    {
      "cell_type": "code",
      "metadata": {
        "id": "HdpfvXZdpWu5",
        "colab_type": "code",
        "colab": {}
      },
      "source": [
        "# standardization\n",
        "heights = csv[:,0]\n",
        "heights -= np.mean(heights)\n",
        "heights /= np.std(heights)\n",
        "\n",
        "weights = csv[:,1]\n",
        "weights -= np.mean(weights)\n",
        "weights /= np.std(weights)\n",
        "\n",
        "data = np.stack([heights, weights], axis=1)\n",
        "print(data)"
      ],
      "execution_count": 0,
      "outputs": []
    },
    {
      "cell_type": "code",
      "metadata": {
        "id": "1FsNOBjlrPOi",
        "colab_type": "code",
        "colab": {}
      },
      "source": [
        "# visualize\n",
        "plt.hist2d(data[:,0], data[:,1], bins=50)\n",
        "plt.show()"
      ],
      "execution_count": 0,
      "outputs": []
    },
    {
      "cell_type": "code",
      "metadata": {
        "id": "3a1LQRGEDQQo",
        "colab_type": "code",
        "colab": {}
      },
      "source": [
        "# split the data into train and eval\n",
        "data_train = data[:8000]\n",
        "data_val = data[8000:]"
      ],
      "execution_count": 0,
      "outputs": []
    },
    {
      "cell_type": "code",
      "metadata": {
        "id": "WTK_6fSfHXgP",
        "colab_type": "code",
        "colab": {}
      },
      "source": [
        "# extract the label\n",
        "label = np.array(csv[:, 2], dtype=np.int64)\n",
        "label_train = label[:8000]\n",
        "label_val = label[8000:]"
      ],
      "execution_count": 0,
      "outputs": []
    },
    {
      "cell_type": "code",
      "metadata": {
        "id": "S4YblKi3bW-P",
        "colab_type": "code",
        "colab": {}
      },
      "source": [
        "# define a model\n",
        "model = keras.Sequential([\n",
        "  keras.layers.Dense(units=2, activation='softmax')\n",
        "])\n",
        "\n",
        "# define an optimizer\n",
        "model.compile(optimizer='adam', loss='sparse_categorical_crossentropy', metrics=['accuracy'])"
      ],
      "execution_count": 0,
      "outputs": []
    },
    {
      "cell_type": "code",
      "metadata": {
        "id": "UpipCw6pHpBJ",
        "colab_type": "code",
        "colab": {}
      },
      "source": [
        "# training\n",
        "history = model.fit(data_train, label_train, epochs=10, validation_data=(data_val, label_val))"
      ],
      "execution_count": 0,
      "outputs": []
    },
    {
      "cell_type": "code",
      "metadata": {
        "id": "P_8fhuKdJnBu",
        "colab_type": "code",
        "colab": {}
      },
      "source": [
        "# Plot the training history\n",
        "acc1 = history.history['accuracy']\n",
        "val_acc1 = history.history['val_accuracy']\n",
        "\n",
        "epochs = range(len(acc1))\n",
        "\n",
        "plt.plot(epochs, acc1, 'r', label='Training accuracy')\n",
        "plt.plot(epochs, val_acc1, 'b', label='Validation accuracy')\n",
        "plt.title('Training and validation accuracy')\n",
        "plt.legend(loc=0)\n",
        "plt.figure()\n",
        "\n",
        "plt.show()"
      ],
      "execution_count": 0,
      "outputs": []
    },
    {
      "cell_type": "code",
      "metadata": {
        "id": "3YYIi2i6q5QS",
        "colab_type": "code",
        "colab": {}
      },
      "source": [
        "# predict\n",
        "pred = model.predict(data_val)\n",
        "print(pred)"
      ],
      "execution_count": 0,
      "outputs": []
    },
    {
      "cell_type": "code",
      "metadata": {
        "id": "LvxsUuUBwX-3",
        "colab_type": "code",
        "colab": {}
      },
      "source": [
        "# visualize the probability\n",
        "plt.scatter(data_val[:,0], data_val[:,1], c=pred[:,0], s=0.1, cmap=plt.get_cmap('RdBu'))\n",
        "plt.show()"
      ],
      "execution_count": 0,
      "outputs": []
    },
    {
      "cell_type": "code",
      "metadata": {
        "id": "kJMYutJINKQc",
        "colab_type": "code",
        "colab": {}
      },
      "source": [
        ""
      ],
      "execution_count": 0,
      "outputs": []
    }
  ]
}
