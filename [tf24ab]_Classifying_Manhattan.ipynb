{
  "nbformat": 4,
  "nbformat_minor": 0,
  "metadata": {
    "colab": {
      "name": "[tf24ab] Classifying Manhattan.ipynb",
      "version": "0.3.2",
      "provenance": [],
      "collapsed_sections": [],
      "include_colab_link": true
    },
    "kernelspec": {
      "name": "python3",
      "display_name": "Python 3"
    }
  },
  "cells": [
    {
      "cell_type": "markdown",
      "metadata": {
        "id": "view-in-github",
        "colab_type": "text"
      },
      "source": [
        "<a href=\"https://colab.research.google.com/github/kazunori279/TensorFlow2-for-absolute-beginners/blob/master/%5Btf24ab%5D_Classifying_Manhattan.ipynb\" target=\"_parent\"><img src=\"https://colab.research.google.com/assets/colab-badge.svg\" alt=\"Open In Colab\"/></a>"
      ]
    },
    {
      "cell_type": "code",
      "metadata": {
        "id": "tMczBykx48vP",
        "colab_type": "code",
        "colab": {}
      },
      "source": [
        "# download manhattan.csv file\n",
        "!curl -O https://raw.githubusercontent.com/kazunori279/ml-misc/master/manhattan.csv\n",
        "\n",
        "# load the csv\n",
        "import numpy as np\n",
        "csv = np.loadtxt(\"manhattan.csv\",delimiter=\",\", skiprows=1)"
      ],
      "execution_count": 0,
      "outputs": []
    },
    {
      "cell_type": "code",
      "metadata": {
        "id": "98LtF5eCIJ3V",
        "colab_type": "code",
        "colab": {}
      },
      "source": [
        "# split into data and label\n",
        "latlng = csv[:, 1:3]\n",
        "print(latlng)\n",
        "label = csv[:, 0]\n",
        "print(label)"
      ],
      "execution_count": 0,
      "outputs": []
    },
    {
      "cell_type": "code",
      "metadata": {
        "id": "_357CbSkJowD",
        "colab_type": "code",
        "colab": {}
      },
      "source": [
        "# standardization\n",
        "lat = latlng[:,0]\n",
        "lat -= np.mean(lat)\n",
        "lat /= np.std(lat)\n",
        "\n",
        "lng = latlng[:,1]\n",
        "lng -= np.mean(lng)\n",
        "lng /= np.std(lng)\n",
        "\n",
        "latlng_std = np.stack([lat, lng], axis=1)\n",
        "print(latlng_std)\n"
      ],
      "execution_count": 0,
      "outputs": []
    },
    {
      "cell_type": "code",
      "metadata": {
        "id": "zcy8_oatKNAa",
        "colab_type": "code",
        "colab": {}
      },
      "source": [
        "# plot the data\n",
        "import matplotlib.pyplot as plt\n",
        "plt.figure(figsize = (10, 10)) # set size to 10 x 10 inch\n",
        "plt.scatter(lng[label == 1], lat[label == 1], c='b') # plot points in Manhattan in blue\n",
        "plt.scatter(lng[label == 0], lat[label == 0], c='y') # plot points outside Manhattan in yellow\n",
        "plt.show()"
      ],
      "execution_count": 0,
      "outputs": []
    },
    {
      "cell_type": "code",
      "metadata": {
        "id": "FVm1dAjHKpjf",
        "colab_type": "code",
        "colab": {}
      },
      "source": [
        "# split the data into train and eval\n",
        "latlng_train = latlng_std[:8000]\n",
        "latlng_val = latlng_std[8000:]\n",
        "label_train = label[:8000]\n",
        "label_val = label[8000:]"
      ],
      "execution_count": 0,
      "outputs": []
    },
    {
      "cell_type": "code",
      "metadata": {
        "id": "jo3-mSaxO43H",
        "colab_type": "code",
        "colab": {}
      },
      "source": [
        "# TensorFlow and tf.keras\n",
        "import tensorflow as tf\n",
        "from tensorflow import keras\n",
        "\n",
        "# define a model\n",
        "model = keras.Sequential([\n",
        "#  keras.layers.Dense(units=10, activation='relu'),\n",
        "  keras.layers.Dense(units=2, activation='softmax')\n",
        "])\n",
        "\n",
        "# define an optimizer\n",
        "model.compile(optimizer='adam', loss='sparse_categorical_crossentropy', metrics=['accuracy'])"
      ],
      "execution_count": 0,
      "outputs": []
    },
    {
      "cell_type": "code",
      "metadata": {
        "id": "v54PCq4uPKxQ",
        "colab_type": "code",
        "colab": {}
      },
      "source": [
        "# training\n",
        "history = model.fit(latlng_train, label_train, epochs=20, validation_data=(latlng_val, label_val))"
      ],
      "execution_count": 0,
      "outputs": []
    },
    {
      "cell_type": "code",
      "metadata": {
        "id": "P_8fhuKdJnBu",
        "colab_type": "code",
        "colab": {}
      },
      "source": [
        "# Plot the training history\n",
        "acc1 = history.history['accuracy']\n",
        "val_acc1 = history.history['val_accuracy']\n",
        "\n",
        "epochs = range(len(acc1))\n",
        "\n",
        "plt.plot(epochs, acc1, 'r', label='Training accuracy')\n",
        "plt.plot(epochs, val_acc1, 'b', label='Validation accuracy')\n",
        "plt.title('Training and validation accuracy')\n",
        "plt.legend(loc=0)\n",
        "plt.figure()\n",
        "\n",
        "plt.show()"
      ],
      "execution_count": 0,
      "outputs": []
    },
    {
      "cell_type": "code",
      "metadata": {
        "id": "ASCUQje_P_n0",
        "colab_type": "code",
        "colab": {}
      },
      "source": [
        "# predict\n",
        "pred = model.predict(latlng_train)\n",
        "print(pred)"
      ],
      "execution_count": 0,
      "outputs": []
    },
    {
      "cell_type": "code",
      "metadata": {
        "id": "ERjILoetQE9i",
        "colab_type": "code",
        "colab": {}
      },
      "source": [
        "# visualize the probability\n",
        "plt.figure(figsize = (10, 10)) # set size to 10 x 10 inch\n",
        "plt.scatter(latlng_train[pred[:, 0] < 0.5, 1], latlng_train[pred[:, 0] < 0.5, 0], c='b') # plot points in Manhattan in blue\n",
        "plt.scatter(latlng_train[pred[:, 0] >= 0.5, 1], latlng_train[pred[:, 0] >= 0.5, 0], c='y') # plot points in Manhattan in blue\n",
        "plt.show()"
      ],
      "execution_count": 0,
      "outputs": []
    }
  ]
}
